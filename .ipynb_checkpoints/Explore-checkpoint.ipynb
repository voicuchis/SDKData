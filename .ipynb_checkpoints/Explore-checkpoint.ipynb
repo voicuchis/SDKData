{
 "cells": [
  {
   "cell_type": "code",
   "execution_count": 16,
   "metadata": {},
   "outputs": [],
   "source": [
    "import pandas as pd\n",
    "from numpy.linalg import norm\n",
    "from numpy import arange\n",
    "from ipywidgets import *"
   ]
  },
  {
   "cell_type": "code",
   "execution_count": 17,
   "metadata": {},
   "outputs": [
    {
     "name": "stdout",
     "output_type": "stream",
     "text": [
      "You have  41009  rows in the data\n"
     ]
    }
   ],
   "source": [
    "subs = ['_x','_y','_z']\n",
    "cols = ['Point', 'ProbeRotationPoint'] + ['ProbeVector' + s for s in subs]\n",
    "\n",
    "colNames = [ col + s for col in cols for s in subs] + ['ProbeRadius'] + ['Time']\n",
    "\n",
    "myDF = pd.read_csv(\"Test.csv\", header=None, names=colNames, index_col = 16)\n",
    "#index is the timestamp\n",
    "myDF.sort_index(inplace = True)\n",
    "print(\"You have \", myDF.shape[0] ,\" rows in the data\")\n",
    "#max(myDF.index) - min(myDF.index)"
   ]
  },
  {
   "cell_type": "code",
   "execution_count": 18,
   "metadata": {},
   "outputs": [
    {
     "name": "stdout",
     "output_type": "stream",
     "text": [
      "Here are the first 5 lines in the data, sorted increasingly by time stamp\n"
     ]
    },
    {
     "data": {
      "text/html": [
       "<div>\n",
       "<style scoped>\n",
       "    .dataframe tbody tr th:only-of-type {\n",
       "        vertical-align: middle;\n",
       "    }\n",
       "\n",
       "    .dataframe tbody tr th {\n",
       "        vertical-align: top;\n",
       "    }\n",
       "\n",
       "    .dataframe thead th {\n",
       "        text-align: right;\n",
       "    }\n",
       "</style>\n",
       "<table border=\"1\" class=\"dataframe\">\n",
       "  <thead>\n",
       "    <tr style=\"text-align: right;\">\n",
       "      <th></th>\n",
       "      <th>Point_x</th>\n",
       "      <th>Point_y</th>\n",
       "      <th>Point_z</th>\n",
       "      <th>ProbeRotationPoint_x</th>\n",
       "      <th>ProbeRotationPoint_y</th>\n",
       "      <th>ProbeRotationPoint_z</th>\n",
       "      <th>ProbeVector_x_x</th>\n",
       "      <th>ProbeVector_x_y</th>\n",
       "      <th>ProbeVector_x_z</th>\n",
       "      <th>ProbeVector_y_x</th>\n",
       "      <th>ProbeVector_y_y</th>\n",
       "      <th>ProbeVector_y_z</th>\n",
       "      <th>ProbeVector_z_x</th>\n",
       "      <th>ProbeVector_z_y</th>\n",
       "      <th>ProbeVector_z_z</th>\n",
       "      <th>ProbeRadius</th>\n",
       "    </tr>\n",
       "    <tr>\n",
       "      <th>Time</th>\n",
       "      <th></th>\n",
       "      <th></th>\n",
       "      <th></th>\n",
       "      <th></th>\n",
       "      <th></th>\n",
       "      <th></th>\n",
       "      <th></th>\n",
       "      <th></th>\n",
       "      <th></th>\n",
       "      <th></th>\n",
       "      <th></th>\n",
       "      <th></th>\n",
       "      <th></th>\n",
       "      <th></th>\n",
       "      <th></th>\n",
       "      <th></th>\n",
       "    </tr>\n",
       "  </thead>\n",
       "  <tbody>\n",
       "    <tr>\n",
       "      <th>63671503884459</th>\n",
       "      <td>-34.702</td>\n",
       "      <td>52.557</td>\n",
       "      <td>7.563</td>\n",
       "      <td>-58.001</td>\n",
       "      <td>58.034</td>\n",
       "      <td>63.224</td>\n",
       "      <td>0.768</td>\n",
       "      <td>-0.512</td>\n",
       "      <td>0.385</td>\n",
       "      <td>-0.513</td>\n",
       "      <td>-0.851</td>\n",
       "      <td>-0.109</td>\n",
       "      <td>-0.383</td>\n",
       "      <td>0.114</td>\n",
       "      <td>0.917</td>\n",
       "      <td>4</td>\n",
       "    </tr>\n",
       "  </tbody>\n",
       "</table>\n",
       "</div>"
      ],
      "text/plain": [
       "                Point_x  Point_y  Point_z  ProbeRotationPoint_x  \\\n",
       "Time                                                              \n",
       "63671503884459  -34.702   52.557    7.563               -58.001   \n",
       "\n",
       "                ProbeRotationPoint_y  ProbeRotationPoint_z  ProbeVector_x_x  \\\n",
       "Time                                                                          \n",
       "63671503884459                58.034                63.224            0.768   \n",
       "\n",
       "                ProbeVector_x_y  ProbeVector_x_z  ProbeVector_y_x  \\\n",
       "Time                                                                \n",
       "63671503884459           -0.512            0.385           -0.513   \n",
       "\n",
       "                ProbeVector_y_y  ProbeVector_y_z  ProbeVector_z_x  \\\n",
       "Time                                                                \n",
       "63671503884459           -0.851           -0.109           -0.383   \n",
       "\n",
       "                ProbeVector_z_y  ProbeVector_z_z  ProbeRadius  \n",
       "Time                                                           \n",
       "63671503884459            0.114            0.917            4  "
      ]
     },
     "execution_count": 18,
     "metadata": {},
     "output_type": "execute_result"
    }
   ],
   "source": [
    "print(\"Here are the first 5 lines in the data, sorted increasingly by time stamp\")\n",
    "myDF.head(n=1)"
   ]
  },
  {
   "cell_type": "code",
   "execution_count": 19,
   "metadata": {},
   "outputs": [
    {
     "name": "stdout",
     "output_type": "stream",
     "text": [
      "Removing the rows that have the same values\n",
      "You are left with  968  records\n"
     ]
    }
   ],
   "source": [
    "print(\"Removing the rows that have the same values\")\n",
    "myDF.drop_duplicates(keep='first', inplace=True)\n",
    "print(\"You are left with \", myDF.shape[0], \" records\")"
   ]
  },
  {
   "cell_type": "code",
   "execution_count": 29,
   "metadata": {},
   "outputs": [],
   "source": [
    "def scalarProd3d(row):\n",
    "    # row has length 6\n",
    "    return row[0]*row[3] + row[1]*row[4] + row[2]*row[5]\n",
    "\n",
    "for col in cols:\n",
    "    myDF[col+ \"_norm\"] = myDF[[col + i for i in subs]].apply(lambda row: norm(list(row)), axis = 1)\n",
    "\n",
    "for i in range(3):\n",
    "    for j in range(i+1, 3):\n",
    "        myDF [ '(ProbeVector' + subs[i] + ', ProbeVector'+ subs[j] ] = myDF[['ProbeVector'+subs[i]+ s for s in subs] + ['ProbeVector'+subs[j]+ s for s in subs]].apply(scalarProd3d, axis = 1)\n",
    "        \n",
    "\n"
   ]
  },
  {
   "cell_type": "code",
   "execution_count": 56,
   "metadata": {},
   "outputs": [
    {
     "data": {
      "application/vnd.jupyter.widget-view+json": {
       "model_id": "056dfbfbbadd46558ec70e62160e4e54",
       "version_major": 2,
       "version_minor": 0
      },
      "text/plain": [
       "interactive(children=(IntSlider(value=483, description='t', max=967), Output()), _dom_classes=('widget-interac…"
      ]
     },
     "metadata": {},
     "output_type": "display_data"
    },
    {
     "data": {
      "text/plain": [
       "<function __main__.plotStuff(t)>"
      ]
     },
     "execution_count": 56,
     "metadata": {},
     "output_type": "execute_result"
    }
   ],
   "source": [
    "import matplotlib as mpl\n",
    "from mpl_toolkits.mplot3d import Axes3D\n",
    "import numpy as np\n",
    "import matplotlib.pyplot as plt\n",
    "#mpl.rcParams['legend.fontsize'] = 10\n",
    "\n",
    "def plotStuff(t):\n",
    "    fig = plt.figure()\n",
    "    ax = fig.gca(projection='3d')\n",
    "    ax.plot(myDF.ProbeRotationPoint_x,  myDF.ProbeRotationPoint_y, myDF.ProbeRotationPoint_z, label='ProbeRotationPoint')\n",
    "    \n",
    "    t = myDF.index[t]\n",
    "    ax.scatter(myDF.ProbeRotationPoint_x[t],  myDF.ProbeRotationPoint_y[t], myDF.ProbeRotationPoint_z[t],c='red')\n",
    "    ax.legend()\n",
    "    plt.show()\n",
    "interact(plotStuff, t = (0,myDF.shape[0]-1,1))\n"
   ]
  },
  {
   "cell_type": "code",
   "execution_count": null,
   "metadata": {},
   "outputs": [],
   "source": []
  }
 ],
 "metadata": {
  "kernelspec": {
   "display_name": "Python 3",
   "language": "python",
   "name": "python3"
  },
  "language_info": {
   "codemirror_mode": {
    "name": "ipython",
    "version": 3
   },
   "file_extension": ".py",
   "mimetype": "text/x-python",
   "name": "python",
   "nbconvert_exporter": "python",
   "pygments_lexer": "ipython3",
   "version": "3.6.5"
  }
 },
 "nbformat": 4,
 "nbformat_minor": 2
}
